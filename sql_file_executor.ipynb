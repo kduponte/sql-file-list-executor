{
 "cells": [
  {
   "cell_type": "code",
   "execution_count": null,
   "metadata": {},
   "outputs": [],
   "source": [
    "import os\n",
    "import psycopg2\n",
    "import time\n",
    "import logging\n",
    "\n",
    "sql_dir = 'DIRECTORY LOCATION OF SQL FILES'\n",
    "sql_files = [\n",
    "    'LIST OF SQL FILENAMES TO EXECUTE'\n",
    "]\n",
    "pre_commands = []\n",
    "\n",
    "prod_db = 'SOURCE SCHEMAS'\n",
    "dev_db = 'TARGET SCHEMA'\n",
    "\n",
    "#Credentials should be set up in b\n",
    "rs_creds = {\n",
    "    'database': os.environ.get('RS_DATABASE'),\n",
    "    'user': os.environ.get('RS_USER'),\n",
    "    'host': os.environ.get('RS_HOST'),\n",
    "    'port': os.environ.get('RS_PORT'),\n",
    "    'password': os.environ.get('RS_PASSWORD'),\n",
    "}\n",
    "db = psycopg2.connect(**(rs_creds))\n",
    "db.set_session(readonly=False, autocommit=True)\n",
    "logger = logging.getLogger(__name__)\n",
    "logger.setLevel(logging.DEBUG)\n",
    "\n",
    "for pre_command in pre_commands:\n",
    "    logger.info(' executing \"%s\"...' % pre_command)\n",
    "    st = time.time()\n",
    "    cursor = db.cursor()\n",
    "    try:\n",
    "        cursor.execute(pre_command)\n",
    "    except:\n",
    "        logger.info('     ...error raised in %.2f sec' % (time.time() - st))        \n",
    "        raise\n",
    "    cursor.close()\n",
    "    logger.info('     ...finished in %.2f sec' % (time.time() - st)) \n",
    "for sql_file in sql_files:\n",
    "    with open(os.path.join(sql_dir, sql_file + '.sql'), 'r') as infile:\n",
    "        query = infile.read()\n",
    "    query = query.replace('set search_path to %s' % prod_db, 'set search_path to %s' % dev_db)\n",
    "    logger.info(' executing %s...' % sql_file)\n",
    "    st = time.time()\n",
    "    cursor = db.cursor()\n",
    "    try:\n",
    "        cursor.execute(query)\n",
    "    except:\n",
    "        logger.info('     ...error raised in %.2f sec' % (time.time() - st))\n",
    "        logger.info(query)\n",
    "        raise\n",
    "    cursor.close()\n",
    "    logger.info('     ...finished in %.2f sec' % (time.time() - st))"
   ]
  }
 ],
 "metadata": {
  "kernelspec": {
   "display_name": "Python 2",
   "language": "python",
   "name": "python2"
  },
  "language_info": {
   "codemirror_mode": {
    "name": "ipython",
    "version": 2
   },
   "file_extension": ".py",
   "mimetype": "text/x-python",
   "name": "python",
   "nbconvert_exporter": "python",
   "pygments_lexer": "ipython2",
   "version": "2.7.15"
  }
 },
 "nbformat": 4,
 "nbformat_minor": 2
}
